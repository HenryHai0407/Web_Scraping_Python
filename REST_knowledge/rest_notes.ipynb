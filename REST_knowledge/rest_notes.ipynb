{
 "cells": [
  {
   "cell_type": "markdown",
   "id": "f54f2e04",
   "metadata": {},
   "source": [
    "# REST API"
   ]
  },
  {
   "cell_type": "markdown",
   "id": "a7f7f555",
   "metadata": {},
   "source": [
    "REST (Representational State Transfer) is a way for web applications to talk to each other over the internet. Think of it like a set of rules for how a client (like a web browser or app) can ask a server for data or tell it to do something. It’s commonly used because it’s simple and works well with the web’s structure."
   ]
  },
  {
   "cell_type": "markdown",
   "id": "91a4a17b",
   "metadata": {},
   "source": [
    "REST interfaces use standard HTTP methods to perform actions on resources (like data, such as a product in your JSON example). These methods are:\n",
    "\n",
    "GET: Ask the server to retrieve data (e.g., \"Give me the details of a product\").\n",
    "\n",
    "POST: Send new data to the server to create something (e.g., \"Add a new product\").\n",
    "\n",
    "PUT: Update existing data on the server (e.g., \"Change the price of a product\").\n",
    "\n",
    "DELETE: Remove data from the server (e.g., \"Delete a product\")."
   ]
  }
 ],
 "metadata": {
  "language_info": {
   "name": "python"
  }
 },
 "nbformat": 4,
 "nbformat_minor": 5
}
